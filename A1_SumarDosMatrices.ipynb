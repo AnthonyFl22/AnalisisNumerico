{
  "nbformat": 4,
  "nbformat_minor": 0,
  "metadata": {
    "colab": {
      "provenance": [],
      "authorship_tag": "ABX9TyP1yzDDifO4ORdEJ9xtEhgQ",
      "include_colab_link": true
    },
    "kernelspec": {
      "name": "python3",
      "display_name": "Python 3"
    },
    "language_info": {
      "name": "python"
    }
  },
  "cells": [
    {
      "cell_type": "markdown",
      "metadata": {
        "id": "view-in-github",
        "colab_type": "text"
      },
      "source": [
        "<a href=\"https://colab.research.google.com/github/AnthonyFl22/AnalisisNumerico/blob/main/A1_SumarDosMatrices.ipynb\" target=\"_parent\"><img src=\"https://colab.research.google.com/assets/colab-badge.svg\" alt=\"Open In Colab\"/></a>"
      ]
    },
    {
      "cell_type": "markdown",
      "source": [
        "Hagamos el código para sumar dos matrices A y B"
      ],
      "metadata": {
        "id": "mURKmBd4P_nE"
      }
    },
    {
      "cell_type": "code",
      "source": [
        "import numpy as np"
      ],
      "metadata": {
        "id": "4j5dy1DKaLF9"
      },
      "execution_count": null,
      "outputs": []
    },
    {
      "cell_type": "code",
      "source": [
        "filas =  int(input(\"Escriba el número de filas: \"))\n",
        "columnas= int(input(\"Escriba el número de columnas: \"))\n",
        "matriz1 = []"
      ],
      "metadata": {
        "colab": {
          "base_uri": "https://localhost:8080/"
        },
        "id": "B1gGo3N4NPP6",
        "outputId": "a434a26b-dd6e-4c19-8703-6ae058c12bda"
      },
      "execution_count": null,
      "outputs": [
        {
          "name": "stdout",
          "output_type": "stream",
          "text": [
            "Escriba el número de filas: 2\n",
            "Escriba el número de columnas: 3\n"
          ]
        }
      ]
    },
    {
      "cell_type": "code",
      "source": [
        "for i in range(filas):\n",
        "  fila = []\n",
        "  for j in range(columnas):\n",
        "    valor = int(input(f\"Ingrese el valor para la fila {i + 1}, columna {j + 1}: \"))\n",
        "    fila.append(valor)\n",
        "  matriz1.append(fila)\n"
      ],
      "metadata": {
        "colab": {
          "base_uri": "https://localhost:8080/"
        },
        "id": "L8jvxvzLNSpn",
        "outputId": "04bbc203-2c90-4ad7-8c29-463252b14b91"
      },
      "execution_count": null,
      "outputs": [
        {
          "name": "stdout",
          "output_type": "stream",
          "text": [
            "Ingrese el valor para la fila 1, columna 1: 2\n",
            "Ingrese el valor para la fila 1, columna 2: 3\n",
            "Ingrese el valor para la fila 1, columna 3: 6\n",
            "Ingrese el valor para la fila 2, columna 1: 5\n",
            "Ingrese el valor para la fila 2, columna 2: 4\n",
            "Ingrese el valor para la fila 2, columna 3: 5\n"
          ]
        }
      ]
    },
    {
      "cell_type": "code",
      "source": [
        "for i in matriz1:\n",
        "  print(\"[\", end=\" \")\n",
        "  for j in i:\n",
        "      print(j, end=\" \")\n",
        "  print(\"]\")"
      ],
      "metadata": {
        "colab": {
          "base_uri": "https://localhost:8080/"
        },
        "id": "6M6VVHdANVWQ",
        "outputId": "d0c8bc87-b5b6-472c-d2fa-1d0ad83b539e"
      },
      "execution_count": null,
      "outputs": [
        {
          "output_type": "stream",
          "name": "stdout",
          "text": [
            "[ 2 3 6 ]\n",
            "[ 5 4 5 ]\n"
          ]
        }
      ]
    },
    {
      "cell_type": "markdown",
      "source": [
        "Como el programa será la suma de dos matrices, por favor escriba la segunda matriz"
      ],
      "metadata": {
        "id": "ByagFuQSYKtU"
      }
    },
    {
      "cell_type": "code",
      "source": [
        "matriz2=[]\n",
        "for i in range(filas):\n",
        "  fila = []\n",
        "  for j in range(columnas):\n",
        "    valor = int(input(f\"Ingrese el valor para la fila {i + 1}, columna {j + 1}: \"))\n",
        "    fila.append(valor)\n",
        "  matriz2.append(fila)\n"
      ],
      "metadata": {
        "colab": {
          "base_uri": "https://localhost:8080/"
        },
        "id": "ONtZXDJyXH3z",
        "outputId": "2c20800c-e320-48e1-a408-124ab08d365d"
      },
      "execution_count": null,
      "outputs": [
        {
          "name": "stdout",
          "output_type": "stream",
          "text": [
            "Ingrese el valor para la fila 1, columna 1: 2\n",
            "Ingrese el valor para la fila 1, columna 2: 3\n",
            "Ingrese el valor para la fila 1, columna 3: 6\n",
            "Ingrese el valor para la fila 2, columna 1: 5\n",
            "Ingrese el valor para la fila 2, columna 2: 4\n",
            "Ingrese el valor para la fila 2, columna 3: 5\n"
          ]
        }
      ]
    },
    {
      "cell_type": "code",
      "source": [
        "for i in matriz2:\n",
        "  print(\"[\", end=\" \")\n",
        "  for j in i:\n",
        "      print(j, end=\" \")\n",
        "  print(\"]\")"
      ],
      "metadata": {
        "colab": {
          "base_uri": "https://localhost:8080/"
        },
        "id": "Eh-2_0HZYjMe",
        "outputId": "80755633-8c51-4f8a-e5bf-c85a741341f6"
      },
      "execution_count": null,
      "outputs": [
        {
          "output_type": "stream",
          "name": "stdout",
          "text": [
            "[ 2 3 6 ]\n",
            "[ 5 4 5 ]\n"
          ]
        }
      ]
    },
    {
      "cell_type": "code",
      "source": [
        "\"La suma de la matriz A y B es de: \"\n",
        "lista1 = []\n",
        "for row in matriz1:\n",
        "  for element in row:\n",
        "    lista1.append(element)"
      ],
      "metadata": {
        "id": "LL6UCktBYw8W"
      },
      "execution_count": null,
      "outputs": []
    },
    {
      "cell_type": "code",
      "source": [
        "lista2 = []\n",
        "for row in matriz2:\n",
        "  for element in row:\n",
        "    lista2.append(element)"
      ],
      "metadata": {
        "id": "QWQ72RlHZITY"
      },
      "execution_count": null,
      "outputs": []
    },
    {
      "cell_type": "code",
      "source": [
        "C= []\n",
        "for i in range(len(lista1)):\n",
        "    C.append(lista1[i] + lista2[i])"
      ],
      "metadata": {
        "id": "Fq6nKqBmZOAx"
      },
      "execution_count": null,
      "outputs": []
    },
    {
      "cell_type": "code",
      "source": [
        "matriz_suma = np.array(C)\n",
        "matriz_suma"
      ],
      "metadata": {
        "colab": {
          "base_uri": "https://localhost:8080/"
        },
        "id": "jAyqXfcUZyee",
        "outputId": "01729d3e-02e9-453b-e24e-3f0fea457a74"
      },
      "execution_count": null,
      "outputs": [
        {
          "output_type": "execute_result",
          "data": {
            "text/plain": [
              "array([ 4,  6, 12, 10,  8, 10])"
            ]
          },
          "metadata": {},
          "execution_count": 81
        }
      ]
    },
    {
      "cell_type": "code",
      "source": [
        "matrizC = matriz_suma.reshape(filas,columnas)"
      ],
      "metadata": {
        "id": "VEKSX-KQZznZ"
      },
      "execution_count": null,
      "outputs": []
    },
    {
      "cell_type": "code",
      "source": [
        "matrizC"
      ],
      "metadata": {
        "colab": {
          "base_uri": "https://localhost:8080/"
        },
        "id": "2ItVZA-FbdSO",
        "outputId": "0a9053cc-eb7e-4aca-efe4-2ec2b1530e7f"
      },
      "execution_count": null,
      "outputs": [
        {
          "output_type": "execute_result",
          "data": {
            "text/plain": [
              "array([[ 4,  6, 12],\n",
              "       [10,  8, 10]])"
            ]
          },
          "metadata": {},
          "execution_count": 83
        }
      ]
    },
    {
      "cell_type": "code",
      "source": [],
      "metadata": {
        "id": "UYALIaMKbeCw"
      },
      "execution_count": null,
      "outputs": []
    }
  ]
}